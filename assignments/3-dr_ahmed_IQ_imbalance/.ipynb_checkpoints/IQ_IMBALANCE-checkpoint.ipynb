{
 "cells": [
  {
   "cell_type": "code",
   "id": "initial_id",
   "metadata": {
    "collapsed": true,
    "ExecuteTime": {
     "end_time": "2024-09-11T18:12:50.222661Z",
     "start_time": "2024-09-11T18:12:50.206522Z"
    }
   },
   "source": [
    "import numpy as np   # library for handling numbers\n",
    "import matplotlib.pyplot as plt  # library for ploting "
   ],
   "outputs": [],
   "execution_count": 38
  },
  {
   "metadata": {},
   "cell_type": "markdown",
   "source": [
    "### Input Signal\n",
    "\\[ r(t) = \\cos(2\\pi f_{RF} t + \\theta) \\]\n",
    "\n",
    "### IQ Imbalance Model\n",
    "\\[ z_I'(t) = \\cos(2\\pi (f_{RF} - f_c) t + \\theta) \\]  \n",
    "\\[ z_Q'(t) = g \\sin(2\\pi (f_{RF} - f_c) t + \\theta - \\phi) \\]\n",
    "\n",
    "### Amplitude and Phase Offsets Estimation\n",
    "\\[ \\hat{g} = \\sqrt{\\frac{\\sum |z_Q'(n)|^2}{\\sum |z_I'(n)|^2}} \\]\n",
    "\n",
    "\\[ \\hat{\\phi} = \\frac{\\sum (z_I'(n) \\cdot z_Q'(n))}{\\sqrt{\\sum |z_I'(n)|^2 \\cdot \\sum |z_Q'(n)|^2}} \\]\n",
    "\n",
    "\n",
    "\n",
    "\n"
   ],
   "id": "cd87c018e825746"
  },
  {
   "metadata": {},
   "cell_type": "code",
   "outputs": [],
   "execution_count": null,
   "source": "",
   "id": "7b9b4c34bdbd2883"
  },
  {
   "metadata": {},
   "cell_type": "code",
   "outputs": [],
   "execution_count": null,
   "source": "",
   "id": "fffcb156642b4248"
  }
 ],
 "metadata": {
  "kernelspec": {
   "display_name": "Python 3",
   "language": "python",
   "name": "python3"
  },
  "language_info": {
   "codemirror_mode": {
    "name": "ipython",
    "version": 2
   },
   "file_extension": ".py",
   "mimetype": "text/x-python",
   "name": "python",
   "nbconvert_exporter": "python",
   "pygments_lexer": "ipython2",
   "version": "2.7.6"
  }
 },
 "nbformat": 4,
 "nbformat_minor": 5
}
